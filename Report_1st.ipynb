{
  "nbformat": 4,
  "nbformat_minor": 0,
  "metadata": {
    "colab": {
      "provenance": [],
      "authorship_tag": "ABX9TyO1mqL6vuyL6197ullq5HgB",
      "include_colab_link": true
    },
    "kernelspec": {
      "name": "python3",
      "display_name": "Python 3"
    },
    "language_info": {
      "name": "python"
    }
  },
  "cells": [
    {
      "cell_type": "markdown",
      "metadata": {
        "id": "view-in-github",
        "colab_type": "text"
      },
      "source": [
        "<a href=\"https://colab.research.google.com/github/kdg2201184/22_10_1st_Report/blob/main/Report_1st.ipynb\" target=\"_parent\"><img src=\"https://colab.research.google.com/assets/colab-badge.svg\" alt=\"Open In Colab\"/></a>"
      ]
    },
    {
      "cell_type": "code",
      "source": [
        "== RESTART: C:\\Users\\user\\AppData\\Local\\Programs\\Python\\Python310\\과제용 파일(1).py =\n",
        "환영합니다.\n",
        "파이썬의 세계에 오신 것을 환영합니다.\n",
        "파이썬은 강력합니다.\n",
        "\n",
        "\n",
        "== RESTART: C:\\Users\\user\\AppData\\Local\\Programs\\Python\\Python310\\과제용 파일(2).py =\n",
        "반갑습니다. 파이썬!\n",
        "0.6\n",
        "Hello World !!!\n",
        "\n",
        "print(7*24)\n",
        "168\n",
        "\n",
        "from turtle import *\n",
        "shape(\"turtle\")\n",
        "forward(100)\n",
        "left(90)\n",
        "forward(100)\n",
        "right(90)\n",
        "forward(100)\n",
        "right(90)\n",
        "forward(100)\n",
        "left(90)\n",
        "forward(100)\n",
        "\n"
      ],
      "metadata": {
        "id": "k9swsU1WTbH5"
      },
      "execution_count": null,
      "outputs": []
    }
  ]
}